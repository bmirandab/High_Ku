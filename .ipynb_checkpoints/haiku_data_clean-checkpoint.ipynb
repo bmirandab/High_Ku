{
 "cells": [
  {
   "cell_type": "code",
   "execution_count": 11,
   "metadata": {},
   "outputs": [],
   "source": [
    "import requests\n",
    "from bs4 import BeautifulSoup\n",
    "from more_itertools import sliced\n",
    "import re"
   ]
  },
  {
   "cell_type": "code",
   "execution_count": 3,
   "metadata": {},
   "outputs": [],
   "source": [
    "url = 'http://haikuguy.com/issa/search.php'\n",
    "response = requests.get(url)"
   ]
  },
  {
   "cell_type": "code",
   "execution_count": 4,
   "metadata": {},
   "outputs": [
    {
     "data": {
      "text/plain": [
       "200"
      ]
     },
     "execution_count": 4,
     "metadata": {},
     "output_type": "execute_result"
    }
   ],
   "source": [
    "response.status_code"
   ]
  },
  {
   "cell_type": "code",
   "execution_count": 5,
   "metadata": {},
   "outputs": [],
   "source": [
    "page = response.text"
   ]
  },
  {
   "cell_type": "code",
   "execution_count": 6,
   "metadata": {},
   "outputs": [],
   "source": [
    "soup = BeautifulSoup(page, \"lxml\")\n",
    "# print(soup.prettify())"
   ]
  },
  {
   "cell_type": "code",
   "execution_count": 36,
   "metadata": {},
   "outputs": [],
   "source": [
    "haikus =[]\n",
    "for element in soup.find_all(class_='english'):\n",
    "    if element not in haikus:\n",
    "        haikus.append(element.get_text())"
   ]
  },
  {
   "cell_type": "code",
   "execution_count": 89,
   "metadata": {},
   "outputs": [
    {
     "data": {
      "text/plain": [
       "[\" on New Year's Day\\r\\na cute little pilgrim\\r\\nat the gate\",\n",
       " \" New Year's Day\\r\\nthis world of Japan's\\r\\nblossoms\",\n",
       " \" basking\\r\\nin the New Year's sun...\\r\\nmy trashy hut\",\n",
       " \" around noon\\r\\nNew Year's Day begins...\\r\\nlittle hut\",\n",
       " \" no run-of-the-mill\\r\\nNew Year's Day\\r\\nfor the slob\",\n",
       " ' First Month, second day--\\r\\nmy wrinkled\\r\\nhands',\n",
       " ' First Month--\\r\\nrecording the cash spent\\r\\non sake',\n",
       " \" on the cat's grave\\r\\nin First Month...\\r\\ndried sardines\",\n",
       " \" to one side\\r\\nof my paper lantern...\\r\\nspring's first dawn\",\n",
       " \" at my hut\\r\\nwhat will come of it?\\r\\nspring's first dawn\"]"
      ]
     },
     "execution_count": 89,
     "metadata": {},
     "output_type": "execute_result"
    }
   ],
   "source": [
    "haikus[:10]"
   ]
  },
  {
   "cell_type": "code",
   "execution_count": 90,
   "metadata": {},
   "outputs": [],
   "source": [
    "haikus_clean = []\n",
    "for line in haikus:\n",
    "    haikus_clean.append(re.sub(r\"[^\\w\\d'\\s\\ +]\",\" \", line))"
   ]
  },
  {
   "cell_type": "code",
   "execution_count": 91,
   "metadata": {},
   "outputs": [],
   "source": [
    "haikus_cleaner = []\n",
    "for line in haikus_clean:\n",
    "    haikus_cleaner.append(re.sub(' +',' ', line))"
   ]
  },
  {
   "cell_type": "code",
   "execution_count": 92,
   "metadata": {},
   "outputs": [],
   "source": [
    "haikus_cleaner = [x.replace(\"\\r\\n\",\", \") for x in haikus_cleaner]"
   ]
  },
  {
   "cell_type": "code",
   "execution_count": 93,
   "metadata": {},
   "outputs": [],
   "source": [
    "haikus_cleaner = [x.lower() for x in haikus_cleaner]"
   ]
  },
  {
   "cell_type": "code",
   "execution_count": 94,
   "metadata": {},
   "outputs": [
    {
     "data": {
      "text/plain": [
       "[\" on new year's day, a cute little pilgrim, at the gate\",\n",
       " \" new year's day, this world of japan's, blossoms\",\n",
       " \" basking, in the new year's sun , my trashy hut\",\n",
       " \" around noon, new year's day begins , little hut\",\n",
       " \" no run of the mill, new year's day, for the slob\",\n",
       " ' first month second day , my wrinkled, hands',\n",
       " ' first month , recording the cash spent, on sake',\n",
       " \" on the cat's grave, in first month , dried sardines\",\n",
       " \" to one side, of my paper lantern , spring's first dawn\",\n",
       " \" at my hut, what will come of it , spring's first dawn\"]"
      ]
     },
     "execution_count": 94,
     "metadata": {},
     "output_type": "execute_result"
    }
   ],
   "source": [
    "haikus_cleaner[:10]"
   ]
  },
  {
   "cell_type": "code",
   "execution_count": 43,
   "metadata": {},
   "outputs": [],
   "source": [
    "with open(\"haiku.txt\", 'r') as f:\n",
    "    haikus2 = f.read().splitlines()"
   ]
  },
  {
   "cell_type": "code",
   "execution_count": 44,
   "metadata": {},
   "outputs": [
    {
     "data": {
      "text/plain": [
       "['a skein of birds',\n",
       " 'twines across the sky',\n",
       " 'the northbound train departs',\n",
       " '',\n",
       " 'dawn chorus begins',\n",
       " 'I reach for',\n",
       " 'the snooze button',\n",
       " '',\n",
       " 'en haut des cuisses',\n",
       " \"dans l'espace sous le slip\"]"
      ]
     },
     "execution_count": 44,
     "metadata": {},
     "output_type": "execute_result"
    }
   ],
   "source": [
    "haikus2[:10]"
   ]
  },
  {
   "cell_type": "code",
   "execution_count": 65,
   "metadata": {},
   "outputs": [],
   "source": [
    "output = []\n",
    "temp = []\n",
    "\n",
    "for i in range(len(haikus2)):\n",
    "    if haikus2[i] =='':\n",
    "        output.append(temp)\n",
    "        temp = []\n",
    "    else:\n",
    "        temp.append(haikus2[i])"
   ]
  },
  {
   "cell_type": "code",
   "execution_count": 72,
   "metadata": {},
   "outputs": [
    {
     "data": {
      "text/plain": [
       "[['a skein of birds', 'twines across the sky', 'the northbound train departs'],\n",
       " ['dawn chorus begins', 'I reach for', 'the snooze button'],\n",
       " ['en haut des cuisses', \"dans l'espace sous le slip\", 'un morceau de mer'],\n",
       " ['new March snow', 'the grouse with a missing toe', 'still around'],\n",
       " ['Remembrance Day-', 'even the traffic', 'pauses for 2 minutes'],\n",
       " ['21-gun salute-', 'mortar fire echoes', 'in his eyes'],\n",
       " ['dignified march-', 'veterans and peacekeepers', 'pass the applause'],\n",
       " ['morning commute-', 'headlights fade', 'in the whiteout'],\n",
       " ['homebound ferry', 'thoughts zigzagging', 'with the terns'],\n",
       " ['yellow walnut leaves', 'slowly appear on the lawn', 'early morning light']]"
      ]
     },
     "execution_count": 72,
     "metadata": {},
     "output_type": "execute_result"
    }
   ],
   "source": [
    "output[:10]"
   ]
  },
  {
   "cell_type": "code",
   "execution_count": 74,
   "metadata": {},
   "outputs": [],
   "source": [
    "haikus2_join = []\n",
    "for line in output:\n",
    "    if line not in haikus2_join:\n",
    "        delimiter = ', '\n",
    "        haikus2_join.append(delimiter.join(line))"
   ]
  },
  {
   "cell_type": "code",
   "execution_count": 78,
   "metadata": {},
   "outputs": [],
   "source": [
    "haikus2_clean = []\n",
    "for line in haikus2_join:\n",
    "    haikus2_clean.append(re.sub(r\"[^\\w\\d'\\s]\",',', line))"
   ]
  },
  {
   "cell_type": "code",
   "execution_count": 79,
   "metadata": {},
   "outputs": [
    {
     "data": {
      "text/plain": [
       "['a skein of birds, twines across the sky, the northbound train departs',\n",
       " 'dawn chorus begins, I reach for, the snooze button',\n",
       " \"en haut des cuisses, dans l'espace sous le slip, un morceau de mer\",\n",
       " 'new March snow, the grouse with a missing toe, still around',\n",
       " 'Remembrance Day,, even the traffic, pauses for 2 minutes']"
      ]
     },
     "execution_count": 79,
     "metadata": {},
     "output_type": "execute_result"
    }
   ],
   "source": [
    "haikus2_clean[:5]"
   ]
  },
  {
   "cell_type": "code",
   "execution_count": 69,
   "metadata": {},
   "outputs": [],
   "source": [
    "# haikus2_cleaner = []\n",
    "# for line in haikus2_clean:\n",
    "#     haikus2_cleaner.append(re.sub(' +',' ', line))"
   ]
  },
  {
   "cell_type": "code",
   "execution_count": 70,
   "metadata": {},
   "outputs": [],
   "source": [
    "# haikus2_cleaner = [x.lower() for x in haikus2_cleaner]"
   ]
  },
  {
   "cell_type": "code",
   "execution_count": 95,
   "metadata": {},
   "outputs": [],
   "source": [
    "# haikus2_cleaner[:-10]"
   ]
  },
  {
   "cell_type": "code",
   "execution_count": 96,
   "metadata": {},
   "outputs": [
    {
     "data": {
      "text/plain": [
       "4996"
      ]
     },
     "execution_count": 96,
     "metadata": {},
     "output_type": "execute_result"
    }
   ],
   "source": [
    "len(haikus2_clean)"
   ]
  },
  {
   "cell_type": "code",
   "execution_count": 97,
   "metadata": {},
   "outputs": [],
   "source": [
    "haikus_all = haikus_cleaner + haikus2_clean"
   ]
  },
  {
   "cell_type": "code",
   "execution_count": 101,
   "metadata": {},
   "outputs": [],
   "source": [
    "with open('haikus_all2.txt', 'w') as f:\n",
    "    for item in haikus_all:\n",
    "        f.write(\"%s\\n\" % item)"
   ]
  },
  {
   "cell_type": "code",
   "execution_count": 98,
   "metadata": {},
   "outputs": [],
   "source": [
    "haiku_dict = [{'haikus':text} for text in haikus_all]"
   ]
  },
  {
   "cell_type": "code",
   "execution_count": 99,
   "metadata": {},
   "outputs": [
    {
     "data": {
      "text/plain": [
       "14996"
      ]
     },
     "execution_count": 99,
     "metadata": {},
     "output_type": "execute_result"
    }
   ],
   "source": [
    "len(haiku_dict)"
   ]
  },
  {
   "cell_type": "code",
   "execution_count": 100,
   "metadata": {},
   "outputs": [
    {
     "data": {
      "text/plain": [
       "[{'haikus': \" on new year's day, a cute little pilgrim, at the gate\"},\n",
       " {'haikus': \" new year's day, this world of japan's, blossoms\"},\n",
       " {'haikus': \" basking, in the new year's sun , my trashy hut\"},\n",
       " {'haikus': \" around noon, new year's day begins , little hut\"},\n",
       " {'haikus': \" no run of the mill, new year's day, for the slob\"},\n",
       " {'haikus': ' first month second day , my wrinkled, hands'},\n",
       " {'haikus': ' first month , recording the cash spent, on sake'},\n",
       " {'haikus': \" on the cat's grave, in first month , dried sardines\"},\n",
       " {'haikus': \" to one side, of my paper lantern , spring's first dawn\"},\n",
       " {'haikus': \" at my hut, what will come of it , spring's first dawn\"}]"
      ]
     },
     "execution_count": 100,
     "metadata": {},
     "output_type": "execute_result"
    }
   ],
   "source": [
    "haiku_dict[:10]"
   ]
  },
  {
   "cell_type": "code",
   "execution_count": null,
   "metadata": {},
   "outputs": [],
   "source": []
  }
 ],
 "metadata": {
  "kernelspec": {
   "display_name": "Python 3",
   "language": "python",
   "name": "python3"
  },
  "language_info": {
   "codemirror_mode": {
    "name": "ipython",
    "version": 3
   },
   "file_extension": ".py",
   "mimetype": "text/x-python",
   "name": "python",
   "nbconvert_exporter": "python",
   "pygments_lexer": "ipython3",
   "version": "3.6.7"
  }
 },
 "nbformat": 4,
 "nbformat_minor": 2
}
